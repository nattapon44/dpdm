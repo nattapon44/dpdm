{
  "cells": [
    {
      "cell_type": "markdown",
      "metadata": {
        "id": "view-in-github",
        "colab_type": "text"
      },
      "source": [
        "<a href=\"https://colab.research.google.com/github/nattapon44/dpdm/blob/main/Python_Exercise.ipynb\" target=\"_parent\"><img src=\"https://colab.research.google.com/assets/colab-badge.svg\" alt=\"Open In Colab\"/></a>"
      ]
    },
    {
      "cell_type": "markdown",
      "id": "309e41b0",
      "metadata": {
        "id": "309e41b0"
      },
      "source": [
        "# Python Exercise"
      ]
    },
    {
      "cell_type": "code",
      "execution_count": null,
      "id": "4d8dc97d",
      "metadata": {
        "id": "4d8dc97d",
        "outputId": "36fca393-70aa-4efc-a463-9586d2c2b31f"
      },
      "outputs": [
        {
          "name": "stdout",
          "output_type": "stream",
          "text": [
            "The answer is 69\n",
            "\n",
            "Hello \n",
            "\n",
            "Hello World\n",
            "\n",
            "Hello\tWorld\n",
            "('Hi', 'There')\n"
          ]
        }
      ],
      "source": [
        "print(\"The answer is\", 3*23)\n",
        "print() # new line\n",
        "\n",
        "print(\"Hello\", end=\" \")\n",
        "print(\"\\n\") # new line\n",
        "\n",
        "print(\"Hello\", \"World\\n\")\n",
        "\n",
        "print(\"Hello\", \"World\", sep=\"\\t\")\n",
        "\n",
        "print((\"Hi\", \"There\"))"
      ]
    },
    {
      "cell_type": "code",
      "execution_count": null,
      "id": "68667dea",
      "metadata": {
        "scrolled": true,
        "id": "68667dea",
        "outputId": "68ca05c8-1f0c-4479-aeb4-b66882502149"
      },
      "outputs": [
        {
          "name": "stderr",
          "output_type": "stream",
          "text": [
            "fatal error\n"
          ]
        }
      ],
      "source": [
        "import sys\n",
        "print(\"fatal error\", file=sys.stderr)"
      ]
    },
    {
      "cell_type": "markdown",
      "id": "0da8b16d",
      "metadata": {
        "id": "0da8b16d"
      },
      "source": [
        "Print date and time:\n",
        "https://www.w3schools.com/python/python_datetime.asp"
      ]
    },
    {
      "cell_type": "code",
      "execution_count": null,
      "id": "eb246687",
      "metadata": {
        "id": "eb246687",
        "outputId": "4d3363d6-91ab-4056-f9bd-bc79a0e481ac"
      },
      "outputs": [
        {
          "data": {
            "text/plain": [
              "datetime.datetime(2023, 6, 28, 8, 32, 51, 640953)"
            ]
          },
          "execution_count": 19,
          "metadata": {},
          "output_type": "execute_result"
        }
      ],
      "source": [
        "import datetime\n",
        "now = datetime.datetime.now()\n",
        "now"
      ]
    },
    {
      "cell_type": "code",
      "execution_count": null,
      "id": "a621f989",
      "metadata": {
        "id": "a621f989",
        "outputId": "bee4b990-68a3-4d10-d4e5-70c70d133060"
      },
      "outputs": [
        {
          "name": "stdout",
          "output_type": "stream",
          "text": [
            "Current date and time : \n",
            "2023-06-28 08:32:51 is Wednesday, June 28 at 08.32 AM\n"
          ]
        }
      ],
      "source": [
        "print (\"Current date and time : \")\n",
        "print (now.strftime(\"%Y-%m-%d %H:%M:%S is %A, %B %d at %I.%M %p\"))"
      ]
    },
    {
      "cell_type": "code",
      "source": [
        "import datetime\n",
        "now = datetime.datetime.now()\n",
        "now\n",
        "# Fri,J ,30 ,2023\n",
        "print(now.strftime(\"%a,%b %d,%Y\"))"
      ],
      "metadata": {
        "id": "0YFsXFC6LDvl",
        "outputId": "6b85915d-da83-4e5c-a011-d48ef07df1e5",
        "colab": {
          "base_uri": "https://localhost:8080/"
        }
      },
      "id": "0YFsXFC6LDvl",
      "execution_count": 7,
      "outputs": [
        {
          "output_type": "stream",
          "name": "stdout",
          "text": [
            "Fri,Jun 30,2023\n"
          ]
        }
      ]
    },
    {
      "cell_type": "markdown",
      "id": "3dcd32c6",
      "metadata": {
        "id": "3dcd32c6"
      },
      "source": [
        "### <span style=\"color:red\">**Print the following string in a specific format**</span>\n",
        "Sample Output:\n",
        "```\n",
        "Twinkle, twinkle, little star,\n",
        "\tHow I wonder what you are!\n",
        "\t\tUp above the world so high,\n",
        "\t\tLike a diamond in the sky.\n",
        "Twinkle, twinkle, little star,\n",
        "\tHow I wonder what you are\n",
        "```"
      ]
    },
    {
      "cell_type": "code",
      "execution_count": 8,
      "id": "fb8ae54f",
      "metadata": {
        "id": "fb8ae54f",
        "outputId": "feb4d1bb-0367-4f1a-c593-ddfa1472538e",
        "colab": {
          "base_uri": "https://localhost:8080/"
        }
      },
      "outputs": [
        {
          "output_type": "stream",
          "name": "stdout",
          "text": [
            "Twinkle, twinkle, little star,How I wonder what you are! Up above the world so high,    Like a diamond in the sky. Twinkle, twinkle, little star, How I wonder what you are\n"
          ]
        }
      ],
      "source": [
        "print(\"Twinkle, twinkle, little star,How I wonder what you are! Up above the world so high,    Like a diamond in the sky. Twinkle, twinkle, little star, How I wonder what you are\")"
      ]
    },
    {
      "cell_type": "code",
      "source": [
        "print(\"\\\\t\")\n",
        "print(\"\\\\\")"
      ],
      "metadata": {
        "id": "6BdAarZeLKQA",
        "outputId": "377bad09-94a4-444b-bdb4-1cf60aa13945",
        "colab": {
          "base_uri": "https://localhost:8080/"
        }
      },
      "id": "6BdAarZeLKQA",
      "execution_count": 9,
      "outputs": [
        {
          "output_type": "stream",
          "name": "stdout",
          "text": [
            "\\t\n",
            "\\\n"
          ]
        }
      ]
    },
    {
      "cell_type": "markdown",
      "id": "51036c02",
      "metadata": {
        "id": "51036c02"
      },
      "source": [
        "Write a Python program that calculates the area of a circle based on the radius entered by the user\n",
        "\n",
        "Sample Output :\n",
        "```\n",
        "r = 1.1\n",
        "Area = 3.8013271108436504\n",
        "```"
      ]
    },
    {
      "cell_type": "code",
      "source": [
        "a = input(\"write something plz: \")\n",
        "print(a)\n",
        "type(a)"
      ],
      "metadata": {
        "id": "HBt7SQkQLfW9",
        "outputId": "9f3f3827-88e0-4350-a2d7-7a40e96b73c2",
        "colab": {
          "base_uri": "https://localhost:8080/"
        }
      },
      "id": "HBt7SQkQLfW9",
      "execution_count": 13,
      "outputs": [
        {
          "output_type": "stream",
          "name": "stdout",
          "text": [
            "write something plz: 8\n",
            "8\n"
          ]
        },
        {
          "output_type": "execute_result",
          "data": {
            "text/plain": [
              "str"
            ]
          },
          "metadata": {},
          "execution_count": 13
        }
      ]
    },
    {
      "cell_type": "code",
      "execution_count": 15,
      "id": "a5aabee3",
      "metadata": {
        "id": "a5aabee3",
        "outputId": "c6567b1e-230b-4a59-b593-ddc7c82e9244",
        "colab": {
          "base_uri": "https://localhost:8080/"
        }
      },
      "outputs": [
        {
          "output_type": "stream",
          "name": "stdout",
          "text": [
            "Input the radius of the circle : 9\n",
            "r = 9.0\n",
            "Area = 254.46900494077323\n"
          ]
        }
      ],
      "source": [
        "from math import pi\n",
        "r = float(input(\"Input the radius of the circle : \"))\n",
        "print (\"r = \" + str(r) + \"\\nArea = \" + str(pi * r**2))"
      ]
    },
    {
      "cell_type": "markdown",
      "id": "bb6daa0e",
      "metadata": {
        "id": "bb6daa0e"
      },
      "source": [
        "### <span style=\"color:red\">**Print first and last name in reverse order with a space between them**</span>\n",
        "Sample Output:\n",
        "```\n",
        "Input your First Name : Pitchaya                                       \n",
        "Input your Last Name : Wiratch                                        \n",
        "Hello, Wiratch Pitchaya!  \n",
        "```"
      ]
    },
    {
      "cell_type": "code",
      "execution_count": 16,
      "id": "d6b51dfb",
      "metadata": {
        "id": "d6b51dfb",
        "outputId": "dfc5c640-64fc-4971-df8f-66c285a64afd",
        "colab": {
          "base_uri": "https://localhost:8080/"
        }
      },
      "outputs": [
        {
          "output_type": "stream",
          "name": "stdout",
          "text": [
            "Input your First Name: Pitchaya\n",
            "Input your Last Name: Wiratch\n",
            "Hello, Wiratch Pitchaya!\n"
          ]
        }
      ],
      "source": [
        "first_name = input(\"Input your First Name: \")\n",
        "last_name = input(\"Input your Last Name: \")\n",
        "print(\"Hello, \" + last_name + \" \" + first_name + \"!\")"
      ]
    },
    {
      "cell_type": "markdown",
      "id": "00a7e398",
      "metadata": {
        "id": "00a7e398"
      },
      "source": [
        "Write a Python program that accepts a sequence of comma-separated numbers from the user and generates a list and a tuple of those numbers\n",
        "```\n",
        "Sample data : 3, 5, 7, 23\n",
        "Output :\n",
        "List : ['3', ' 5', ' 7', ' 23']\n",
        "Tuple : ('3', ' 5', ' 7', ' 23')\n",
        "```\n",
        "Hint: using `split()`"
      ]
    },
    {
      "cell_type": "code",
      "execution_count": 19,
      "id": "72b239b3",
      "metadata": {
        "id": "72b239b3",
        "outputId": "386d32bd-e4eb-441c-c7a9-0a06b8a9ac83",
        "colab": {
          "base_uri": "https://localhost:8080/",
          "height": 263
        }
      },
      "outputs": [
        {
          "name": "stdout",
          "output_type": "stream",
          "text": [
            "Input some comma seprated numbers : 3,5,7,23\n"
          ]
        },
        {
          "output_type": "error",
          "ename": "TypeError",
          "evalue": "ignored",
          "traceback": [
            "\u001b[0;31m---------------------------------------------------------------------------\u001b[0m",
            "\u001b[0;31mTypeError\u001b[0m                                 Traceback (most recent call last)",
            "\u001b[0;32m<ipython-input-19-6030b101377c>\u001b[0m in \u001b[0;36m<cell line: 3>\u001b[0;34m()\u001b[0m\n\u001b[1;32m      1\u001b[0m \u001b[0mvalues\u001b[0m \u001b[0;34m=\u001b[0m \u001b[0minput\u001b[0m\u001b[0;34m(\u001b[0m\u001b[0;34m\"Input some comma seprated numbers : \"\u001b[0m\u001b[0;34m)\u001b[0m\u001b[0;34m\u001b[0m\u001b[0;34m\u001b[0m\u001b[0m\n\u001b[1;32m      2\u001b[0m \u001b[0mlist\u001b[0m \u001b[0;34m=\u001b[0m \u001b[0mvalues\u001b[0m\u001b[0;34m.\u001b[0m\u001b[0msplit\u001b[0m\u001b[0;34m(\u001b[0m\u001b[0;34m\",\"\u001b[0m\u001b[0;34m)\u001b[0m\u001b[0;34m\u001b[0m\u001b[0;34m\u001b[0m\u001b[0m\n\u001b[0;32m----> 3\u001b[0;31m \u001b[0mtuple\u001b[0m \u001b[0;34m=\u001b[0m \u001b[0mtuple\u001b[0m\u001b[0;34m(\u001b[0m\u001b[0mlist\u001b[0m\u001b[0;34m)\u001b[0m\u001b[0;34m\u001b[0m\u001b[0;34m\u001b[0m\u001b[0m\n\u001b[0m\u001b[1;32m      4\u001b[0m \u001b[0mprint\u001b[0m\u001b[0;34m(\u001b[0m\u001b[0;34m'List : '\u001b[0m\u001b[0;34m,\u001b[0m\u001b[0mlist\u001b[0m\u001b[0;34m)\u001b[0m\u001b[0;34m\u001b[0m\u001b[0;34m\u001b[0m\u001b[0m\n\u001b[1;32m      5\u001b[0m \u001b[0mprint\u001b[0m\u001b[0;34m(\u001b[0m\u001b[0;34m'Tuple : '\u001b[0m\u001b[0;34m,\u001b[0m\u001b[0mtuple\u001b[0m\u001b[0;34m)\u001b[0m\u001b[0;34m\u001b[0m\u001b[0;34m\u001b[0m\u001b[0m\n",
            "\u001b[0;31mTypeError\u001b[0m: 'tuple' object is not callable"
          ]
        }
      ],
      "source": [
        "values = input(\"Input some comma seprated numbers : \")\n",
        "list = values.split(\",\")\n",
        "tuple = tuple(list)\n",
        "print('List : ',list)\n",
        "print('Tuple : ',tuple)"
      ]
    },
    {
      "cell_type": "markdown",
      "id": "d9767ffa",
      "metadata": {
        "id": "d9767ffa"
      },
      "source": [
        "### <span style=\"color:red\">**Write a Python program that accepts a filename from the user and prints the extension of the file**</span>\n",
        "```\n",
        "Sample filename : abc.java\n",
        "Output : java\n",
        "```"
      ]
    },
    {
      "cell_type": "code",
      "source": [
        "filename = \"abc.java\"\n",
        "file_extension = filename.split(\".\")[-1]\n",
        "print(file_extension)"
      ],
      "metadata": {
        "id": "RKiij2h4QF56",
        "outputId": "3040ef42-6b0e-4812-960c-814804619e4d",
        "colab": {
          "base_uri": "https://localhost:8080/"
        }
      },
      "id": "RKiij2h4QF56",
      "execution_count": 21,
      "outputs": [
        {
          "output_type": "stream",
          "name": "stdout",
          "text": [
            "java\n"
          ]
        }
      ]
    },
    {
      "cell_type": "code",
      "execution_count": 23,
      "id": "d34132b0",
      "metadata": {
        "id": "d34132b0",
        "outputId": "7d3b578e-9d78-4f77-d6a7-8c32385bc25b",
        "colab": {
          "base_uri": "https://localhost:8080/"
        }
      },
      "outputs": [
        {
          "output_type": "stream",
          "name": "stdout",
          "text": [
            "Write filename : sdad.java\n",
            "Output :  java\n"
          ]
        }
      ],
      "source": [
        "filename = input(\"Write filename : \")\n",
        "print(\"Output : \", filename.split(\".\")[-1])"
      ]
    },
    {
      "cell_type": "markdown",
      "id": "e8e4e804",
      "metadata": {
        "id": "e8e4e804"
      },
      "source": [
        "### <span style=\"color:red\">**Write a Python program to display the first and last colors from the following list**</span>"
      ]
    },
    {
      "cell_type": "code",
      "execution_count": 25,
      "id": "a1e83b3c",
      "metadata": {
        "id": "a1e83b3c"
      },
      "outputs": [],
      "source": [
        "color_list = [\"Red\",\"Green\",\"White\" ,\"Black\"]"
      ]
    },
    {
      "cell_type": "code",
      "execution_count": 26,
      "id": "10aabdcc",
      "metadata": {
        "id": "10aabdcc",
        "outputId": "19f617d7-421f-427b-88c9-bcd3ffe94264",
        "colab": {
          "base_uri": "https://localhost:8080/"
        }
      },
      "outputs": [
        {
          "output_type": "stream",
          "name": "stdout",
          "text": [
            "First color is Red Last color is Black\n"
          ]
        }
      ],
      "source": [
        "print(\"First color is\",color_list[0], \"Last color is\",color_list[-1])"
      ]
    },
    {
      "cell_type": "markdown",
      "id": "1b03e5c9",
      "metadata": {
        "id": "1b03e5c9"
      },
      "source": [
        "Write a Python program that prints the calendar for a given month and year\n",
        "<p>Note : Use 'calendar' module."
      ]
    },
    {
      "cell_type": "code",
      "execution_count": 27,
      "id": "392a634e",
      "metadata": {
        "id": "392a634e",
        "outputId": "e84d527b-bfaf-4e3d-fa51-e9c33e982ab5",
        "colab": {
          "base_uri": "https://localhost:8080/"
        }
      },
      "outputs": [
        {
          "output_type": "stream",
          "name": "stdout",
          "text": [
            "Input the year : 2023\n",
            "Input the month : 7\n",
            "     July 2023\n",
            "Mo Tu We Th Fr Sa Su\n",
            "                1  2\n",
            " 3  4  5  6  7  8  9\n",
            "10 11 12 13 14 15 16\n",
            "17 18 19 20 21 22 23\n",
            "24 25 26 27 28 29 30\n",
            "31\n",
            "\n"
          ]
        }
      ],
      "source": [
        "import calendar\n",
        "y = int(input(\"Input the year : \"))\n",
        "m = int(input(\"Input the month : \"))\n",
        "print(calendar.month(y, m))"
      ]
    },
    {
      "cell_type": "markdown",
      "id": "a30c6fa4",
      "metadata": {
        "id": "a30c6fa4"
      },
      "source": [
        "Write a Python program to calculate the number of days between two dates\n",
        "`datetime.date(year, month, day)`"
      ]
    },
    {
      "cell_type": "code",
      "execution_count": 28,
      "id": "a9c67f76",
      "metadata": {
        "id": "a9c67f76",
        "outputId": "1236e2ab-52cc-4806-9061-00351210061e",
        "colab": {
          "base_uri": "https://localhost:8080/"
        }
      },
      "outputs": [
        {
          "output_type": "stream",
          "name": "stdout",
          "text": [
            "9\n"
          ]
        }
      ],
      "source": [
        "from datetime import date\n",
        "f_date = date(2014, 7, 2)\n",
        "l_date = date(2014, 7, 11)\n",
        "delta = l_date - f_date\n",
        "print(delta.days)"
      ]
    },
    {
      "cell_type": "code",
      "execution_count": 29,
      "id": "b77b1e70",
      "metadata": {
        "id": "b77b1e70",
        "outputId": "242d6f16-b00c-4548-8a1b-62ea9a46b17c",
        "colab": {
          "base_uri": "https://localhost:8080/"
        }
      },
      "outputs": [
        {
          "output_type": "execute_result",
          "data": {
            "text/plain": [
              "datetime.date(2014, 7, 2)"
            ]
          },
          "metadata": {},
          "execution_count": 29
        }
      ],
      "source": [
        "f_date"
      ]
    },
    {
      "cell_type": "markdown",
      "id": "b36e5dbb",
      "metadata": {
        "id": "b36e5dbb"
      },
      "source": [
        "### <span style=\"color:red\">**Write a Python program to calculate the difference between a given number and 17. If the number is greater than 17, return twice the absolute difference**</span>\n",
        "```\n",
        "def function_name(argument):\n",
        "    ...\n",
        "\n",
        "def function_name(argument1, argument2):\n",
        "    summation = argument1 + argument2\n",
        "    return(summation)\n",
        "```"
      ]
    },
    {
      "cell_type": "code",
      "execution_count": 38,
      "id": "57d94acd",
      "metadata": {
        "id": "57d94acd"
      },
      "outputs": [],
      "source": [
        "\n",
        "def compute1(given_number):\n",
        "    if given_number > 17:\n",
        "       result = abs(17 - given_number)*2\n",
        "    else:\n",
        "       result = 17 - given_number\n",
        "    return(result)\n",
        ""
      ]
    },
    {
      "cell_type": "code",
      "source": [
        "compute1(21)"
      ],
      "metadata": {
        "id": "QDv_jKn7UEMA",
        "outputId": "6d7aabff-c538-492e-ed84-faf481050887",
        "colab": {
          "base_uri": "https://localhost:8080/"
        }
      },
      "id": "QDv_jKn7UEMA",
      "execution_count": 39,
      "outputs": [
        {
          "output_type": "execute_result",
          "data": {
            "text/plain": [
              "8"
            ]
          },
          "metadata": {},
          "execution_count": 39
        }
      ]
    },
    {
      "cell_type": "markdown",
      "id": "bcd0bc39",
      "metadata": {
        "id": "bcd0bc39"
      },
      "source": [
        "### <span style=\"color:red\">**Get a string which is n (non-negative integer) copies of a given string**</span>"
      ]
    },
    {
      "cell_type": "code",
      "execution_count": 41,
      "id": "c56187e5",
      "metadata": {
        "id": "c56187e5"
      },
      "outputs": [],
      "source": [
        "def genString1(mystr,numcopies):\n",
        "    return(mystr*numcopies)\n",
        "\n",
        "def genString2(mystr,numcopies):\n",
        "    result = \"\"\n",
        "    for i in range(numcopies):\n",
        "      result = result+mystr\n",
        "    return(result)"
      ]
    },
    {
      "cell_type": "code",
      "source": [
        "print(genString1(\"abc\",3), genString2(\"abc\",3))"
      ],
      "metadata": {
        "id": "4EL4efAGWkuC",
        "outputId": "158a89af-143d-46a2-cf49-5c3714354e61",
        "colab": {
          "base_uri": "https://localhost:8080/"
        }
      },
      "id": "4EL4efAGWkuC",
      "execution_count": 42,
      "outputs": [
        {
          "output_type": "stream",
          "name": "stdout",
          "text": [
            "abcabcabc abcabcabc\n"
          ]
        }
      ]
    },
    {
      "cell_type": "markdown",
      "id": "679a8ac4",
      "metadata": {
        "id": "679a8ac4"
      },
      "source": [
        "### <span style=\"color:red\">**Get a new string from a given string where 'Is' has been added to the front. If the given string already begins with 'Is' then return the string unchanged**</span>"
      ]
    },
    {
      "cell_type": "code",
      "source": [
        "mystr = \"abc\"\n",
        "mystr[0:2]"
      ],
      "metadata": {
        "id": "ixU6nI7cYqMN",
        "outputId": "f2bfdaae-bb12-4c99-ffa8-aa5ef7ade036",
        "colab": {
          "base_uri": "https://localhost:8080/",
          "height": 36
        }
      },
      "id": "ixU6nI7cYqMN",
      "execution_count": 43,
      "outputs": [
        {
          "output_type": "execute_result",
          "data": {
            "text/plain": [
              "'a'"
            ],
            "application/vnd.google.colaboratory.intrinsic+json": {
              "type": "string"
            }
          },
          "metadata": {},
          "execution_count": 43
        }
      ]
    },
    {
      "cell_type": "code",
      "execution_count": 44,
      "id": "b2e43ce5",
      "metadata": {
        "id": "b2e43ce5"
      },
      "outputs": [],
      "source": [
        "def fillingIs(mystr):\n",
        "  if mystr[0:2] == \"Is\":\n",
        "    result = mystr\n",
        "  else:\n",
        "    result = \"Is\" + mystr\n",
        "  return(result)"
      ]
    },
    {
      "cell_type": "code",
      "source": [
        "fillingIs(\"abc\")"
      ],
      "metadata": {
        "id": "ieSOlKlTY8fa",
        "outputId": "661aa42c-9179-462b-e536-4a7201ca5fc3",
        "colab": {
          "base_uri": "https://localhost:8080/",
          "height": 36
        }
      },
      "id": "ieSOlKlTY8fa",
      "execution_count": 45,
      "outputs": [
        {
          "output_type": "execute_result",
          "data": {
            "text/plain": [
              "'Isabc'"
            ],
            "application/vnd.google.colaboratory.intrinsic+json": {
              "type": "string"
            }
          },
          "metadata": {},
          "execution_count": 45
        }
      ]
    },
    {
      "cell_type": "markdown",
      "id": "3249280b",
      "metadata": {
        "id": "3249280b"
      },
      "source": [
        "### <span style=\"color:red\">**Check whether a specified value is contained in a group of values**</span>\n",
        "i.e. `def is_group_member(group_data, n):` or any other way?\n",
        "```\n",
        "Test Data :\n",
        "3 -> [1, 5, 8, 3] : True\n",
        "-1 -> [1, 5, 8, 3] : False\n",
        "```"
      ]
    },
    {
      "cell_type": "code",
      "source": [
        "def is_group_member1(group_data, n):\n",
        "    return n in group_data\n",
        "def is_group_member2(group_data, n):\n",
        "    for element in group_data:\n",
        "      print(element)\n",
        "      if element == n:\n",
        "        return(True)\n",
        "    return(Flase)"
      ],
      "metadata": {
        "id": "IMVkAxHHZ4oX"
      },
      "id": "IMVkAxHHZ4oX",
      "execution_count": 50,
      "outputs": []
    },
    {
      "cell_type": "code",
      "source": [
        "is_group_member2([1, 5, 8, 3],8)"
      ],
      "metadata": {
        "id": "rdS2B_HVaVDA",
        "outputId": "dd6d24cd-1fa6-4aca-c01d-6e7a81d23fc1",
        "colab": {
          "base_uri": "https://localhost:8080/"
        }
      },
      "id": "rdS2B_HVaVDA",
      "execution_count": 52,
      "outputs": [
        {
          "output_type": "stream",
          "name": "stdout",
          "text": [
            "1\n",
            "5\n",
            "8\n"
          ]
        },
        {
          "output_type": "execute_result",
          "data": {
            "text/plain": [
              "True"
            ]
          },
          "metadata": {},
          "execution_count": 52
        }
      ]
    },
    {
      "cell_type": "code",
      "execution_count": 46,
      "id": "da172342",
      "metadata": {
        "id": "da172342",
        "outputId": "0151da90-d543-4bff-ddb8-e45506b0b9e0",
        "colab": {
          "base_uri": "https://localhost:8080/"
        }
      },
      "outputs": [
        {
          "output_type": "execute_result",
          "data": {
            "text/plain": [
              "True"
            ]
          },
          "metadata": {},
          "execution_count": 46
        }
      ],
      "source": [
        "n = 3\n",
        "group_data = [1, 5, 8, 3]\n",
        "n in group_data"
      ]
    },
    {
      "cell_type": "markdown",
      "id": "babb262a",
      "metadata": {
        "id": "babb262a"
      },
      "source": [
        "### <span style=\"color:red\">**Write a Python program to print all even numbers from a given list of numbers in the same order and stop printing any after 237 in the sequence**</span>\n",
        "```\n",
        "Sample numbers list :\n",
        "numbers = [386, 462, 47, 418, 907, 344, 236, 375, 823, 566, 597, 978, 328, 615, 953, 345,\n",
        "           399, 162, 758, 219, 918, 237, 412, 566, 826, 248, 866, 950, 626, 949, 687, 217,\n",
        "           815, 67, 104, 58, 512, 24, 892, 894, 767, 553, 81, 379, 843, 831, 445, 742, 717,\n",
        "           958,743, 527\n",
        "          ]\n",
        "```"
      ]
    },
    {
      "cell_type": "code",
      "execution_count": 56,
      "id": "9e569489",
      "metadata": {
        "id": "9e569489"
      },
      "outputs": [],
      "source": [
        "def print_even(numbersList):\n",
        "    for num in numbersList:\n",
        "        if num == 237:\n",
        "            break\n",
        "        if num % 2 == 0: # check if even number\n",
        "            print(num)\n",
        "\n",
        "# numbers = [386, 462, 47, 418, 907, 344, 236, 375, 823, 566, 597, 978, 328, 615, 953, 345,\n",
        "#           399, 162, 758, 219, 918, 237, 412, 566, 826, 248, 866, 950, 626, 949, 687, 217,\n",
        "#           815, 67, 104, 58, 512, 24, 892, 894, 767, 553, 81, 379, 843, 831, 445, 742, 717,\n",
        "#           958, 743, 527\n",
        "##          ]\n",
        "#print_even(numbers)"
      ]
    },
    {
      "cell_type": "code",
      "source": [
        "print_even([1,2,3,4,237,6,8])"
      ],
      "metadata": {
        "id": "2JKvI3GpdMXN",
        "outputId": "a2ec6d3f-93df-4869-f66e-1e67fe9b9e96",
        "colab": {
          "base_uri": "https://localhost:8080/"
        }
      },
      "id": "2JKvI3GpdMXN",
      "execution_count": 57,
      "outputs": [
        {
          "output_type": "stream",
          "name": "stdout",
          "text": [
            "2\n",
            "4\n"
          ]
        }
      ]
    },
    {
      "cell_type": "markdown",
      "id": "6aeb803b",
      "metadata": {
        "id": "6aeb803b"
      },
      "source": [
        "### <span style=\"color:red\">**Add two objects if both objects are an integer type**</span>\n",
        "```\n",
        "def add_numbers(obj1, obj2):\n",
        "    ...\n",
        "```\n",
        "Hint: try `isinstance(object, type)`"
      ]
    },
    {
      "cell_type": "code",
      "execution_count": 63,
      "id": "b2ed423b",
      "metadata": {
        "id": "b2ed423b"
      },
      "outputs": [],
      "source": [
        "def add_numbers(obj1, obj2):\n",
        "  if isinstance(obj1, int) and isinstance(obj2, int):\n",
        "    return(obj1 + obj2)\n",
        "  else:\n",
        "    print(\"Some objects are not integer\")\n",
        "    print(\"fatal error\", file=sys.stderr)\n",
        "  return\n",
        "  print(add_numbers(1,2))\n",
        "  print(add_numbers('1','2'))"
      ]
    },
    {
      "cell_type": "markdown",
      "id": "d55e82ff",
      "metadata": {
        "id": "d55e82ff"
      },
      "source": [
        "### <span style=\"color:red\">**Concatenate `N` strings in a list**</span>\n",
        "i.e. `list_of_colors = ['Red', 'White', 'Black']`"
      ]
    },
    {
      "cell_type": "code",
      "execution_count": 61,
      "id": "9769cf6d",
      "metadata": {
        "id": "9769cf6d",
        "outputId": "208ceced-1cc1-4927-b363-437ec9015e1b",
        "colab": {
          "base_uri": "https://localhost:8080/",
          "height": 36
        }
      },
      "outputs": [
        {
          "output_type": "execute_result",
          "data": {
            "text/plain": [
              "'RedWhiteBlack'"
            ],
            "application/vnd.google.colaboratory.intrinsic+json": {
              "type": "string"
            }
          },
          "metadata": {},
          "execution_count": 61
        }
      ],
      "source": [
        "list_of_colors = ['Red', 'White', 'Black']\n",
        "list_of_colors[0]+list_of_colors[1]+list_of_colors[2]"
      ]
    },
    {
      "cell_type": "code",
      "source": [
        "combined_colors = \"\"\n",
        "for color in list_of_colors:\n",
        "  combined_colors = combined_colors + color + ','\n",
        "  print(combined_colors)\n"
      ],
      "metadata": {
        "id": "xflvwCyifwBV",
        "outputId": "d56c2348-4429-408c-9757-d6ea646817f7",
        "colab": {
          "base_uri": "https://localhost:8080/"
        }
      },
      "id": "xflvwCyifwBV",
      "execution_count": 66,
      "outputs": [
        {
          "output_type": "stream",
          "name": "stdout",
          "text": [
            "Red,\n",
            "Red,White,\n",
            "Red,White,Black,\n"
          ]
        }
      ]
    },
    {
      "cell_type": "code",
      "source": [
        "list_of_colors = ['Red', 'White', 'Black']\n",
        "''.join(list_of_colors)"
      ],
      "metadata": {
        "id": "UpKoJIzZgzK1",
        "outputId": "db158ad3-2331-4d67-bdd6-94dbc718495a",
        "colab": {
          "base_uri": "https://localhost:8080/",
          "height": 36
        }
      },
      "id": "UpKoJIzZgzK1",
      "execution_count": 68,
      "outputs": [
        {
          "output_type": "execute_result",
          "data": {
            "text/plain": [
              "'RedWhiteBlack'"
            ],
            "application/vnd.google.colaboratory.intrinsic+json": {
              "type": "string"
            }
          },
          "metadata": {},
          "execution_count": 68
        }
      ]
    },
    {
      "cell_type": "markdown",
      "id": "acd77943",
      "metadata": {
        "id": "acd77943"
      },
      "source": [
        "Filter the positive numbers from a list\n",
        "```\n",
        "nums = [34, 1, 0, -23, 12, -88]\n",
        "list(filter(lambda x: x >0, nums))\n",
        "```"
      ]
    },
    {
      "cell_type": "code",
      "source": [
        "nums = [34, 1, 0, -23, 12, -88]\n",
        "[i for i in filter(lambda x: x >0, nums)]"
      ],
      "metadata": {
        "id": "nRDNba3WhnV1",
        "outputId": "24881e72-df4d-42fa-b777-01c6f779f819",
        "colab": {
          "base_uri": "https://localhost:8080/"
        }
      },
      "id": "nRDNba3WhnV1",
      "execution_count": 74,
      "outputs": [
        {
          "output_type": "execute_result",
          "data": {
            "text/plain": [
              "[34, 1, 12]"
            ]
          },
          "metadata": {},
          "execution_count": 74
        }
      ]
    },
    {
      "cell_type": "code",
      "execution_count": 78,
      "id": "612b7a9a",
      "metadata": {
        "id": "612b7a9a",
        "outputId": "6736d957-3490-4dc4-f0ab-126cdf96a48d",
        "colab": {
          "base_uri": "https://localhost:8080/"
        }
      },
      "outputs": [
        {
          "output_type": "execute_result",
          "data": {
            "text/plain": [
              "[34, 1, -99, -99, 12, -99]"
            ]
          },
          "metadata": {},
          "execution_count": 78
        }
      ],
      "source": [
        "nums = [34, 1, 0, -23, 12, -88]\n",
        "new_nums = [i if i>0 else -99 for i in nums]\n",
        "new_nums"
      ]
    },
    {
      "cell_type": "code",
      "source": [
        "newList = []\n",
        "for i in nums:\n",
        "  if i > 0:\n",
        "    newList.append(i)\n",
        "  else:\n",
        "    newList.append(-99)\n",
        "newList"
      ],
      "metadata": {
        "id": "6205etjkiTtW",
        "outputId": "04cdf9a6-6ec0-4718-92fe-3f6a4a53ad8c",
        "colab": {
          "base_uri": "https://localhost:8080/"
        }
      },
      "id": "6205etjkiTtW",
      "execution_count": 82,
      "outputs": [
        {
          "output_type": "execute_result",
          "data": {
            "text/plain": [
              "[34, 1, -99, -99, 12, -99]"
            ]
          },
          "metadata": {},
          "execution_count": 82
        }
      ]
    },
    {
      "cell_type": "markdown",
      "id": "d272b3e3",
      "metadata": {
        "id": "d272b3e3"
      },
      "source": [
        "### <span style=\"color:red\">**Filter people whose the length of their name is greater than 5**</span>\n",
        "```\n",
        "people = ['Mark', 'Martin', 'Maepranom', 'Moon']\n",
        "```"
      ]
    },
    {
      "cell_type": "code",
      "execution_count": 84,
      "id": "f7ad2847",
      "metadata": {
        "id": "f7ad2847",
        "outputId": "2dee66c8-7ce7-4912-8f42-ca2e335bf465",
        "colab": {
          "base_uri": "https://localhost:8080/"
        }
      },
      "outputs": [
        {
          "output_type": "stream",
          "name": "stdout",
          "text": [
            "['Martin', 'Maepranom']\n"
          ]
        }
      ],
      "source": [
        "people = ['Mark', 'Martin', 'Maepranom', 'Moon']\n",
        "filtered_people = [person for person in people if len(person) > 5]\n",
        "print(filtered_people)"
      ]
    },
    {
      "cell_type": "code",
      "source": [
        "#[ df[\"nameColumn\"] for i in range(len(df[\"nameColumn\"])) if df[\"ageColumn\"][i]>25 ]"
      ],
      "metadata": {
        "id": "liKC2WaclGeJ"
      },
      "id": "liKC2WaclGeJ",
      "execution_count": null,
      "outputs": []
    },
    {
      "cell_type": "markdown",
      "id": "8f126032",
      "metadata": {
        "id": "8f126032"
      },
      "source": [
        "Input a number, if it is not an integer generates an error message"
      ]
    },
    {
      "cell_type": "code",
      "execution_count": 85,
      "id": "6ba22e4f",
      "metadata": {
        "id": "6ba22e4f",
        "outputId": "6a77a3d0-cede-4922-9827-64879bdde1c9",
        "colab": {
          "base_uri": "https://localhost:8080/"
        }
      },
      "outputs": [
        {
          "name": "stdout",
          "output_type": "stream",
          "text": [
            "Input a number: g\n",
            "\n",
            "This is not an integer. Try again...\n",
            "\n",
            "Input a number: -2\n"
          ]
        }
      ],
      "source": [
        "while True:\n",
        "    try:\n",
        "        a = int(input(\"Input a number: \"))\n",
        "        break\n",
        "    except ValueError:\n",
        "        print(\"\\nThis is not an integer. Try again...\")\n",
        "        print()"
      ]
    },
    {
      "cell_type": "code",
      "execution_count": 86,
      "id": "57aff751",
      "metadata": {
        "id": "57aff751",
        "outputId": "f1a6b1ea-4afa-4380-80ec-495f1cf66a97",
        "colab": {
          "base_uri": "https://localhost:8080/"
        }
      },
      "outputs": [
        {
          "output_type": "stream",
          "name": "stdout",
          "text": [
            "1 1\n",
            "2 aa\n",
            "1 2\n",
            "2 aaaa\n",
            "1 4\n",
            "2 aaaaaaaa\n"
          ]
        }
      ],
      "source": [
        "mystr = \"a\"\n",
        "while len(mystr) < 5:\n",
        "  print(\"1\",len(mystr))\n",
        "  mystr = mystr*2\n",
        "  print(\"2\",mystr)"
      ]
    }
  ],
  "metadata": {
    "kernelspec": {
      "display_name": "Python 3 (ipykernel)",
      "language": "python",
      "name": "python3"
    },
    "language_info": {
      "codemirror_mode": {
        "name": "ipython",
        "version": 3
      },
      "file_extension": ".py",
      "mimetype": "text/x-python",
      "name": "python",
      "nbconvert_exporter": "python",
      "pygments_lexer": "ipython3",
      "version": "3.8.8"
    },
    "colab": {
      "provenance": [],
      "include_colab_link": true
    }
  },
  "nbformat": 4,
  "nbformat_minor": 5
}